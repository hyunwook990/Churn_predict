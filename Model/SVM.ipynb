{
 "cells": [
  {
   "cell_type": "code",
   "execution_count": 1,
   "metadata": {},
   "outputs": [
    {
     "data": {
      "text/plain": [
       "True"
      ]
     },
     "execution_count": 1,
     "metadata": {},
     "output_type": "execute_result"
    }
   ],
   "source": [
    "import numpy as np\n",
    "import pandas as pd\n",
    "import matplotlib.pyplot as plt\n",
    "import seaborn as sns\n",
    "from glob import glob\n",
    "from functools import reduce\n",
    "from datetime import datetime, timezone\n",
    "from imblearn.over_sampling import SMOTE\n",
    "from imblearn.under_sampling import NearMiss\n",
    "from sklearn.preprocessing import LabelEncoder\n",
    "from sklearn.model_selection import train_test_split\n",
    "from sklearn.svm import LinearSVC\n",
    "from sklearn.svm import SVC\n",
    "from sklearn.decomposition import PCA\n",
    "from sklearn.metrics import accuracy_score, f1_score\n",
    "\n",
    "# 경고 무시\n",
    "import warnings\n",
    "warnings.simplefilter(action='ignore', category=FutureWarning)\n",
    "\n",
    "# 한글 출력\n",
    "import matplotlib\n",
    "matplotlib.rcParams['font.family'] = 'Malgun Gothic' \n",
    "matplotlib.rcParams['font.size'] = 15 \n",
    "matplotlib.rcParams['axes.unicode_minus']"
   ]
  },
  {
   "cell_type": "markdown",
   "metadata": {},
   "source": [
    "# 비선형 SVM\n",
    "- Non-Linear Support Vector Machine"
   ]
  },
  {
   "cell_type": "markdown",
   "metadata": {},
   "source": [
    "<div style=\"background-color:rgb(253, 255, 187); padding: 30px; border-radius: 10px; color: black; font-size: 18px;\">\n",
    "    데이터 로드\n",
    "</div>"
   ]
  },
  {
   "cell_type": "markdown",
   "metadata": {},
   "source": [
    "### original data"
   ]
  },
  {
   "cell_type": "code",
   "execution_count": 2,
   "metadata": {},
   "outputs": [
    {
     "name": "stdout",
     "output_type": "stream",
     "text": [
      "<class 'pandas.core.frame.DataFrame'>\n",
      "RangeIndex: 694175 entries, 0 to 694174\n",
      "Data columns (total 14 columns):\n",
      " #   Column                   Non-Null Count   Dtype  \n",
      "---  ------                   --------------   -----  \n",
      " 0   tier                     694175 non-null  int64  \n",
      " 1   rank                     694175 non-null  int64  \n",
      " 2   winRate                  694175 non-null  float64\n",
      " 3   veteran                  694175 non-null  int64  \n",
      " 4   freshBlood               694175 non-null  int64  \n",
      " 5   hotStreak                694175 non-null  int64  \n",
      " 6   revisionDate             694175 non-null  int64  \n",
      " 7   summonerLevel            694175 non-null  int64  \n",
      " 8   championId               694175 non-null  int64  \n",
      " 9   championLevel            694175 non-null  int64  \n",
      " 10  championPoints           694175 non-null  int64  \n",
      " 11  lastPlayTime             694175 non-null  int64  \n",
      " 12  championSeasonMilestone  694175 non-null  int64  \n",
      " 13  churn                    694175 non-null  int64  \n",
      "dtypes: float64(1), int64(13)\n",
      "memory usage: 74.1 MB\n"
     ]
    }
   ],
   "source": [
    "origin_data = pd.read_csv('prep_data.csv')\n",
    "origin_data.info()"
   ]
  },
  {
   "cell_type": "markdown",
   "metadata": {},
   "source": [
    "### oversampling_data"
   ]
  },
  {
   "cell_type": "code",
   "execution_count": 2,
   "metadata": {},
   "outputs": [
    {
     "name": "stdout",
     "output_type": "stream",
     "text": [
      "<class 'pandas.core.frame.DataFrame'>\n",
      "RangeIndex: 1210694 entries, 0 to 1210693\n",
      "Data columns (total 14 columns):\n",
      " #   Column                   Non-Null Count    Dtype  \n",
      "---  ------                   --------------    -----  \n",
      " 0   tier                     1210694 non-null  int64  \n",
      " 1   rank                     1210694 non-null  int64  \n",
      " 2   winRate                  1210694 non-null  float64\n",
      " 3   veteran                  1210694 non-null  int64  \n",
      " 4   freshBlood               1210694 non-null  int64  \n",
      " 5   hotStreak                1210694 non-null  int64  \n",
      " 6   revisionDate             1210694 non-null  int64  \n",
      " 7   summonerLevel            1210694 non-null  int64  \n",
      " 8   championId               1210694 non-null  int64  \n",
      " 9   championLevel            1210694 non-null  int64  \n",
      " 10  championPoints           1210694 non-null  int64  \n",
      " 11  lastPlayTime             1210694 non-null  int64  \n",
      " 12  championSeasonMilestone  1210694 non-null  int64  \n",
      " 13  churn                    1210694 non-null  int64  \n",
      "dtypes: float64(1), int64(13)\n",
      "memory usage: 129.3 MB\n"
     ]
    }
   ],
   "source": [
    "oversampling_data = pd.read_csv('oversampling_data.csv')\n",
    "oversampling_data.info()"
   ]
  },
  {
   "cell_type": "markdown",
   "metadata": {},
   "source": [
    "### hotStreak_churn_oversampling_data"
   ]
  },
  {
   "cell_type": "code",
   "execution_count": 4,
   "metadata": {},
   "outputs": [
    {
     "name": "stdout",
     "output_type": "stream",
     "text": [
      "<class 'pandas.core.frame.DataFrame'>\n",
      "RangeIndex: 2289284 entries, 0 to 2289283\n",
      "Data columns (total 14 columns):\n",
      " #   Column                   Dtype  \n",
      "---  ------                   -----  \n",
      " 0   tier                     int64  \n",
      " 1   rank                     int64  \n",
      " 2   winRate                  float64\n",
      " 3   veteran                  int64  \n",
      " 4   freshBlood               int64  \n",
      " 5   revisionDate             int64  \n",
      " 6   summonerLevel            int64  \n",
      " 7   championId               int64  \n",
      " 8   championLevel            int64  \n",
      " 9   championPoints           int64  \n",
      " 10  lastPlayTime             int64  \n",
      " 11  championSeasonMilestone  int64  \n",
      " 12  hotStreak                int64  \n",
      " 13  churn                    int64  \n",
      "dtypes: float64(1), int64(13)\n",
      "memory usage: 244.5 MB\n"
     ]
    }
   ],
   "source": [
    "hotStreak_churn_oversampling_data = pd.read_csv('./hotStreak_churn_oversampling_data.csv')\n",
    "hotStreak_churn_oversampling_data.info()"
   ]
  },
  {
   "cell_type": "markdown",
   "metadata": {},
   "source": [
    "### hotStreak_oversampling_data"
   ]
  },
  {
   "cell_type": "code",
   "execution_count": 5,
   "metadata": {},
   "outputs": [
    {
     "name": "stdout",
     "output_type": "stream",
     "text": [
      "<class 'pandas.core.frame.DataFrame'>\n",
      "RangeIndex: 1245718 entries, 0 to 1245717\n",
      "Data columns (total 14 columns):\n",
      " #   Column                   Non-Null Count    Dtype  \n",
      "---  ------                   --------------    -----  \n",
      " 0   tier                     1245718 non-null  int64  \n",
      " 1   rank                     1245718 non-null  int64  \n",
      " 2   winRate                  1245718 non-null  float64\n",
      " 3   veteran                  1245718 non-null  int64  \n",
      " 4   freshBlood               1245718 non-null  int64  \n",
      " 5   revisionDate             1245718 non-null  int64  \n",
      " 6   summonerLevel            1245718 non-null  int64  \n",
      " 7   championId               1245718 non-null  int64  \n",
      " 8   championLevel            1245718 non-null  int64  \n",
      " 9   championPoints           1245718 non-null  int64  \n",
      " 10  lastPlayTime             1245718 non-null  int64  \n",
      " 11  championSeasonMilestone  1245718 non-null  int64  \n",
      " 12  churn                    1245718 non-null  int64  \n",
      " 13  hotStreak                1245718 non-null  int64  \n",
      "dtypes: float64(1), int64(13)\n",
      "memory usage: 133.1 MB\n"
     ]
    }
   ],
   "source": [
    "hotStreak_oversampling_data = pd.read_csv('./hotStreak_oversampling_data.csv')\n",
    "hotStreak_oversampling_data.info()"
   ]
  },
  {
   "cell_type": "markdown",
   "metadata": {},
   "source": [
    "### undersampling_data"
   ]
  },
  {
   "cell_type": "code",
   "execution_count": 6,
   "metadata": {},
   "outputs": [
    {
     "name": "stdout",
     "output_type": "stream",
     "text": [
      "<class 'pandas.core.frame.DataFrame'>\n",
      "RangeIndex: 676721 entries, 0 to 676720\n",
      "Data columns (total 15 columns):\n",
      " #   Column                   Non-Null Count   Dtype  \n",
      "---  ------                   --------------   -----  \n",
      " 0   Unnamed: 0               676721 non-null  int64  \n",
      " 1   tier                     676721 non-null  int64  \n",
      " 2   rank                     676721 non-null  int64  \n",
      " 3   winRate                  676721 non-null  float64\n",
      " 4   veteran                  676721 non-null  int64  \n",
      " 5   freshBlood               676721 non-null  int64  \n",
      " 6   hotStreak                676721 non-null  int64  \n",
      " 7   revisionDate             676721 non-null  int64  \n",
      " 8   summonerLevel            676721 non-null  int64  \n",
      " 9   championId               676721 non-null  int64  \n",
      " 10  championLevel            676721 non-null  int64  \n",
      " 11  championPoints           676721 non-null  int64  \n",
      " 12  lastPlayTime             676721 non-null  int64  \n",
      " 13  championSeasonMilestone  676721 non-null  int64  \n",
      " 14  churn                    676721 non-null  int64  \n",
      "dtypes: float64(1), int64(14)\n",
      "memory usage: 77.4 MB\n"
     ]
    }
   ],
   "source": [
    "undersampling_data = pd.read_csv('undersampling_data.csv')\n",
    "undersampling_data.info()"
   ]
  },
  {
   "cell_type": "markdown",
   "metadata": {},
   "source": [
    "<div style=\"background-color:rgb(253, 255, 187); padding: 30px; border-radius: 10px; color: black; font-size: 18px;\">\n",
    "    PCA\n",
    "</div>"
   ]
  },
  {
   "cell_type": "code",
   "execution_count": 7,
   "metadata": {},
   "outputs": [],
   "source": [
    "# pca = PCA(n_components=2)  # 2차원으로 축소\n",
    "# X_train_2d = pca.fit_transform(X_train)\n",
    "# X_test_2d = pca.fit_transform(X_test)"
   ]
  },
  {
   "cell_type": "code",
   "execution_count": 8,
   "metadata": {},
   "outputs": [],
   "source": [
    "# plt.figure(figsize=(6, 5))\n",
    "# plt.scatter(X_train_2d[:, 0], X_train_2d[:, 1], alpha=0.5, label=\"PCA 변환 데이터\")\n",
    "\n",
    "# for i, comp in enumerate(pca.components_):\n",
    "#     plt.arrow(0, 0, comp[0], comp[1], color='r', alpha=0.7, head_width=0.05)\n",
    "#     plt.text(comp[0], comp[1], f\"PC{i+1}\", color='r')\n",
    "\n",
    "# plt.xlabel(\"PC1\")\n",
    "# plt.ylabel(\"PC2\")\n",
    "# plt.legend()\n",
    "# plt.title(\"PCA 주성분 방향\")\n",
    "# plt.show()"
   ]
  },
  {
   "cell_type": "markdown",
   "metadata": {},
   "source": [
    "<div style=\"background-color:rgb(253, 255, 187); padding: 30px; border-radius: 10px; color: black; font-size: 18px;\">\n",
    "    Machine Learning\n",
    "</div>"
   ]
  },
  {
   "cell_type": "code",
   "execution_count": 3,
   "metadata": {},
   "outputs": [
    {
     "data": {
      "text/plain": [
       "((908020, 8), (302674, 8), (908020,), (302674,))"
      ]
     },
     "execution_count": 3,
     "metadata": {},
     "output_type": "execute_result"
    }
   ],
   "source": [
    "# tier, winRate, veteran, revisionDate, championId\n",
    "over_X = oversampling_data.drop(['churn', 'revisionDate','championId','tier','winRate','veteran'], axis=1)\n",
    "over_y = oversampling_data['churn']\n",
    "\n",
    "over_X_train, over_X_test, over_y_train, over_y_test = train_test_split(over_X, over_y, random_state=0)\n",
    "over_X_train.shape, over_X_test.shape, over_y_train.shape, over_y_test.shape"
   ]
  },
  {
   "cell_type": "code",
   "execution_count": 9,
   "metadata": {},
   "outputs": [
    {
     "data": {
      "text/plain": [
       "((507540, 14), (169181, 14), (507540,), (169181,))"
      ]
     },
     "execution_count": 9,
     "metadata": {},
     "output_type": "execute_result"
    }
   ],
   "source": [
    "under_X = undersampling_data.drop(['churn'], axis=1)\n",
    "under_y = undersampling_data['churn']\n",
    "\n",
    "under_X_train, under_X_test, under_y_train, under_y_test = train_test_split(under_X, under_y, random_state=0)\n",
    "under_X_train.shape, under_X_test.shape, under_y_train.shape, under_y_test.shape"
   ]
  },
  {
   "cell_type": "code",
   "execution_count": 8,
   "metadata": {},
   "outputs": [
    {
     "data": {
      "text/plain": [
       "((520631, 5), (173544, 5), (520631,), (173544,))"
      ]
     },
     "execution_count": 8,
     "metadata": {},
     "output_type": "execute_result"
    }
   ],
   "source": [
    "origin_X = origin_data.drop([\n",
    "    \"tier\", \"rank\", \"winRate\",\"veteran\", \"hotStreak\", \"revisionDate\", \"championId\", \"championLevel\", \"championPoints\"], axis=1)\n",
    "origin_y = origin_data['churn']\n",
    "\n",
    "origin_X_train, origin_X_test, origin_y_train, origin_y_test = train_test_split(origin_X, origin_y, random_state=0)\n",
    "origin_X_train.shape, origin_X_test.shape, origin_y_train.shape, origin_y_test.shape"
   ]
  },
  {
   "cell_type": "markdown",
   "metadata": {},
   "source": [
    "---"
   ]
  },
  {
   "cell_type": "markdown",
   "metadata": {},
   "source": [
    "### over_linear_score"
   ]
  },
  {
   "cell_type": "code",
   "execution_count": 4,
   "metadata": {},
   "outputs": [
    {
     "name": "stdout",
     "output_type": "stream",
     "text": [
      "LinearSVC 정확도: 0.6288911502144221\n"
     ]
    }
   ],
   "source": [
    "over_linear_model = LinearSVC()\n",
    "\n",
    "over_linear_model.fit(over_X_train, over_y_train)\n",
    "\n",
    "over_linear_score = over_linear_model.score(over_X_test, over_y_test)\n",
    "print('LinearSVC 정확도:', over_linear_score)"
   ]
  },
  {
   "cell_type": "code",
   "execution_count": 7,
   "metadata": {},
   "outputs": [
    {
     "name": "stdout",
     "output_type": "stream",
     "text": [
      "0.6289046496773198\n",
      "0.5036822972821701\n"
     ]
    }
   ],
   "source": [
    "over_y_pred_train = over_linear_model.predict(over_X_train)\n",
    "over_acc_score_train = accuracy_score(over_y_train, over_y_pred_train)\n",
    "over_f1_score_train = f1_score(over_y_train, over_y_pred_train)\n",
    "print(over_acc_score_train)\n",
    "print(over_f1_score_train)"
   ]
  },
  {
   "cell_type": "code",
   "execution_count": 8,
   "metadata": {},
   "outputs": [
    {
     "name": "stdout",
     "output_type": "stream",
     "text": [
      "0.6288911502144221\n",
      "0.5042349129845654\n"
     ]
    }
   ],
   "source": [
    "over_y_pred_test = over_linear_model.predict(over_X_test)\n",
    "over_acc_score_test = accuracy_score(over_y_test, over_y_pred_test)\n",
    "over_f1_score_test = f1_score(over_y_test, over_y_pred_test)\n",
    "print(over_acc_score_test)\n",
    "print(over_f1_score_test)"
   ]
  },
  {
   "cell_type": "code",
   "execution_count": null,
   "metadata": {},
   "outputs": [],
   "source": []
  },
  {
   "cell_type": "code",
   "execution_count": 11,
   "metadata": {},
   "outputs": [
    {
     "name": "stdout",
     "output_type": "stream",
     "text": [
      "LinearSVC 정확도: 1.0\n"
     ]
    }
   ],
   "source": [
    "origin_linear_model = LinearSVC()\n",
    "\n",
    "origin_linear_model.fit(origin_X_train, origin_y_train)\n",
    "\n",
    "origin_linear_score = origin_linear_model.score(origin_X_test, origin_y_test)\n",
    "print('LinearSVC 정확도:', origin_linear_score)"
   ]
  },
  {
   "cell_type": "code",
   "execution_count": 12,
   "metadata": {},
   "outputs": [
    {
     "name": "stdout",
     "output_type": "stream",
     "text": [
      "1.0\n",
      "1.0\n"
     ]
    }
   ],
   "source": [
    "origin_y_pred_train = origin_linear_model.predict(origin_X_train)\n",
    "origin_acc_score_train = accuracy_score(origin_y_train, origin_y_pred_train)\n",
    "origin_f1_score_train = f1_score(origin_y_train, origin_y_pred_train)\n",
    "print(origin_acc_score_train)\n",
    "print(origin_f1_score_train)"
   ]
  },
  {
   "cell_type": "code",
   "execution_count": 13,
   "metadata": {},
   "outputs": [
    {
     "name": "stdout",
     "output_type": "stream",
     "text": [
      "1.0\n",
      "1.0\n"
     ]
    }
   ],
   "source": [
    "origin_y_pred_test = origin_linear_model.predict(origin_X_test)\n",
    "origin_acc_score_test = accuracy_score(origin_y_test, origin_y_pred_test)\n",
    "origin_f1_score_test = f1_score(origin_y_test, origin_y_pred_test)\n",
    "print(origin_acc_score_test)\n",
    "print(origin_f1_score_test)"
   ]
  },
  {
   "cell_type": "code",
   "execution_count": null,
   "metadata": {},
   "outputs": [],
   "source": [
    "origin_y_pred_train = origin_rbf_model.predict(origin_X_train)\n",
    "origin_acc_score_train = accuracy_score(origin_y_train, origin_y_pred_train)\n",
    "origin_f1_score_train = f1_score(origin_y_train, origin_y_pred_train)\n",
    "print('훈련 데이터 평가:', origin_acc_score_train)\n",
    "print('훈련 데이터 f1 평가:', origin_f1_score_train)\n",
    "\n",
    "origin_y_pred_test = origin_rbf_model.predict(origin_X_test)\n",
    "origin_acc_score_test = accuracy_score(origin_y_test, origin_y_pred_test)\n",
    "origin_f1_score_test = f1_score(origin_y_test, origin_y_pred_test)\n",
    "print('평가 데이터 평가:', origin_acc_score_test)\n",
    "print('평가 데이터 f1 평가:',origin_f1_score_test)"
   ]
  },
  {
   "cell_type": "code",
   "execution_count": null,
   "metadata": {},
   "outputs": [],
   "source": [
    "origin_poly_model = SVC()\n",
    "\n",
    "origin_poly_model.fit(origin_X_train, origin_y_train)\n",
    "\n",
    "origin_poly_score = origin_poly_model.score(origin_X_test, origin_y_test)\n",
    "\n",
    "print('poly kernel 정확도:', origin_poly_score)"
   ]
  },
  {
   "cell_type": "code",
   "execution_count": null,
   "metadata": {},
   "outputs": [],
   "source": [
    "origin_y_pred_train = origin_poly_model.predict(origin_X_train)\n",
    "origin_acc_score_train = accuracy_score(origin_y_train, origin_y_pred_train)\n",
    "origin_f1_score_train = f1_score(origin_y_train, origin_y_pred_train)\n",
    "print('훈련 데이터 평가:', origin_acc_score_train)\n",
    "print('훈련 데이터 f1 평가:', origin_f1_score_train)\n",
    "\n",
    "origin_y_pred_test = origin_poly_model.predict(origin_X_test)\n",
    "origin_acc_score_test = accuracy_score(origin_y_test, origin_y_pred_test)\n",
    "origin_f1_score_test = f1_score(origin_y_test, origin_y_pred_test)\n",
    "print('평가 데이터 평가:', origin_acc_score_test)\n",
    "print('평가 데이터 f1 평가:',origin_f1_score_test)"
   ]
  },
  {
   "cell_type": "markdown",
   "metadata": {},
   "source": [
    "# pca"
   ]
  },
  {
   "cell_type": "code",
   "execution_count": 9,
   "metadata": {},
   "outputs": [],
   "source": [
    "pca = PCA(n_components=2)\n",
    "over_X_train_2d = pca.fit_transform(over_X_train)\n",
    "over_X_test_2d = pca.transform(over_X_test)"
   ]
  },
  {
   "cell_type": "code",
   "execution_count": null,
   "metadata": {},
   "outputs": [],
   "source": [
    "# rbf_model = SVC(kernel='rbf', cache_size=2048)\n",
    "linear_model = SVC(kernel='linear')\n",
    "# poly_model = SVC(kernel='poly')\n",
    "\n",
    "# rbf_model.fit(over_X_train_2d, over_y_train)\n",
    "linear_model.fit(over_X_train_2d, over_y_train)\n",
    "# poly_model.fit(over_X_train_2d, over_y_train)\n",
    "\n",
    "# rbf_score = rbf_model.score(over_X_test_2d, over_y_test)\n",
    "linear_score = linear_model.score(over_X_train_2d, over_y_train)\n",
    "# poly_score = poly_model.score(over_X_test_2d, over_y_test)\n",
    "\n",
    "print('--- 각 kernel별 정확도 ---')\n",
    "# print('rbf:', rbf_score)\n",
    "print('linear:', linear_score)\n",
    "# print('poly:', poly_score)"
   ]
  },
  {
   "cell_type": "code",
   "execution_count": null,
   "metadata": {},
   "outputs": [],
   "source": []
  }
 ],
 "metadata": {
  "kernelspec": {
   "display_name": "pystudy_env",
   "language": "python",
   "name": "pystudy_env"
  },
  "language_info": {
   "codemirror_mode": {
    "name": "ipython",
    "version": 3
   },
   "file_extension": ".py",
   "mimetype": "text/x-python",
   "name": "python",
   "nbconvert_exporter": "python",
   "pygments_lexer": "ipython3",
   "version": "3.12.9"
  }
 },
 "nbformat": 4,
 "nbformat_minor": 2
}
