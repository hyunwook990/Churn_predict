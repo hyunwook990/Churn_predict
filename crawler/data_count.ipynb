{
 "cells": [
  {
   "cell_type": "code",
   "execution_count": 62,
   "metadata": {},
   "outputs": [],
   "source": [
    "import os\n",
    "import pandas as pd\n",
    "from glob import glob\n",
    "from collections import defaultdict"
   ]
  },
  {
   "cell_type": "code",
   "execution_count": null,
   "metadata": {},
   "outputs": [],
   "source": [
    "path = os.path.join(os.getcwd(), \"data\\\\reduction_data\\\\*\")\n",
    "data_path = glob(path)\n",
    "\n",
    "data = defaultdict(pd.DataFrame)\n",
    "\n",
    "for data_file in data_path:\n",
    "    file = data_file.split('\\\\')[-1].split(\".\")[0]\n",
    "    data[file] = pd.concat([data[file], pd.read_csv(data_file, encoding=\"utf-8\")])\n",
    "\n",
    "# for key in data.keys():\n",
    "#     display(data[key].head())"
   ]
  },
  {
   "cell_type": "code",
   "execution_count": 76,
   "metadata": {},
   "outputs": [
    {
     "name": "stdout",
     "output_type": "stream",
     "text": [
      "BRONZE count : 45593\n",
      "CHALLENGER count : 30\n",
      "DIAMOND count : 6435\n",
      "EMERALD count : 19920\n",
      "GOLD count : 41440\n",
      "GRANDMASTER count : 70\n",
      "IRON count : 44504\n",
      "MASTER count : 1000\n",
      "PLATINUM count : 27945\n",
      "SILVER count : 44993\n"
     ]
    }
   ],
   "source": [
    "for key, value in data.items():\n",
    "    print(f\"{key} count : {len(value.index)}\")"
   ]
  }
 ],
 "metadata": {
  "kernelspec": {
   "display_name": "SKN11",
   "language": "python",
   "name": "python3"
  },
  "language_info": {
   "codemirror_mode": {
    "name": "ipython",
    "version": 3
   },
   "file_extension": ".py",
   "mimetype": "text/x-python",
   "name": "python",
   "nbconvert_exporter": "python",
   "pygments_lexer": "ipython3",
   "version": "3.9.21"
  }
 },
 "nbformat": 4,
 "nbformat_minor": 2
}
